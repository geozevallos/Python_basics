{
 "cells": [
  {
   "cell_type": "markdown",
   "metadata": {},
   "source": [
    "#### Excepciones"
   ]
  },
  {
   "cell_type": "markdown",
   "metadata": {},
   "source": [
    "Una excepción son errores no esperados"
   ]
  },
  {
   "cell_type": "markdown",
   "metadata": {},
   "source": [
    "Una captura o excepcion del error es como decir: Intenta hacer la operación \"a\" y en caso no puedas haz algo más..  Es decir va a continuar con el flujo. Ojo que el except va a dar siempre q coincida con el tipo de error"
   ]
  },
  {
   "cell_type": "code",
   "execution_count": 1,
   "metadata": {},
   "outputs": [
    {
     "name": "stdout",
     "output_type": "stream",
     "text": [
      "Introduce el primer número: 23\n",
      "Introduce el segundo número: 0\n",
      "Introduce la operación a realizar (suma,resta,multiplica,divide): divide\n",
      "No se puede dividir entre cero\n",
      "Operación errónea\n",
      "Operación ejecutada. Continuación de ejecúción del programa \n"
     ]
    }
   ],
   "source": [
    "def suma(num1, num2):\n",
    "\treturn num1+num2\n",
    "\n",
    "def resta(num1, num2):\n",
    "\treturn num1-num2\n",
    "\n",
    "def multiplica(num1, num2):\n",
    "\treturn num1*num2\n",
    "\n",
    "def divide(num1,num2):\t\t\n",
    "\t#return num1/num2\n",
    "    try:\n",
    "        return num1 / num2\n",
    "    except ZeroDivisionError:\n",
    "        print(\"No se puede dividir entre cero\")\n",
    "        return \"Operación errónea\"\n",
    "\t\n",
    "\n",
    "op1=(int(input(\"Introduce el primer número: \")))\n",
    "\n",
    "op2=(int(input(\"Introduce el segundo número: \")))\t\t\n",
    "\t\n",
    "operacion=input(\"Introduce la operación a realizar (suma,resta,multiplica,divide): \")\n",
    "\n",
    "if operacion==\"suma\":\n",
    "\tprint(suma(op1,op2))\n",
    "\n",
    "elif operacion==\"resta\":\n",
    "\tprint(resta(op1,op2))\n",
    "\n",
    "elif operacion==\"multiplica\":\n",
    "\tprint(multiplica(op1,op2))\n",
    "\n",
    "elif operacion==\"divide\":\n",
    "\tprint(divide(op1,op2))\n",
    "\n",
    "\n",
    "else:\n",
    "\tprint (\"Operación no contemplada\")\n",
    "\n",
    "\n",
    "print(\"Operación ejecutada. Continuación de ejecúción del programa \")"
   ]
  },
  {
   "cell_type": "markdown",
   "metadata": {},
   "source": [
    "##### Capturando varias excepciones \n",
    "\n",
    "Por ejemplo si nosotros ingresaramos texto también saldría un error"
   ]
  },
  {
   "cell_type": "code",
   "execution_count": 2,
   "metadata": {},
   "outputs": [
    {
     "name": "stdout",
     "output_type": "stream",
     "text": [
      "Introduce el primer número: sada\n",
      "Los valores introducidos no son correctos\n",
      "Introduce el primer número: 4\n",
      "Introduce el segundo número: 2\n",
      "Introduce la operación a realizar (suma,resta,multiplica,divide): divide\n",
      "2.0\n",
      "Operación ejecutada. Continuación de ejecúción del programa \n"
     ]
    }
   ],
   "source": [
    "def suma(num1, num2):\n",
    "\treturn num1+num2\n",
    "\n",
    "def resta(num1, num2):\n",
    "\treturn num1-num2\n",
    "\n",
    "def multiplica(num1, num2):\n",
    "\treturn num1*num2\n",
    "\n",
    "def divide(num1,num2):\t\t\n",
    "\t#return num1/num2\n",
    "    try:\n",
    "        return num1 / num2\n",
    "    except ZeroDivisionError:\n",
    "        print(\"No se puede dividir entre cero\")\n",
    "        return \"Operación errónea\"\n",
    "\n",
    "# Ponerlo en un loop infinito para que ingrese datos correctos\n",
    "while True:\n",
    "    try:\n",
    "        op1=(int(input(\"Introduce el primer número: \")))\n",
    "        op2=(int(input(\"Introduce el segundo número: \")))\n",
    "        break\n",
    "    \n",
    "    except ValueError:\n",
    "        print(\"Los valores introducidos no son correctos\")\n",
    "\t\n",
    "operacion=input(\"Introduce la operación a realizar (suma,resta,multiplica,divide): \")\n",
    "\n",
    "if operacion==\"suma\":\n",
    "\tprint(suma(op1,op2))\n",
    "\n",
    "elif operacion==\"resta\":\n",
    "\tprint(resta(op1,op2))\n",
    "\n",
    "elif operacion==\"multiplica\":\n",
    "\tprint(multiplica(op1,op2))\n",
    "\n",
    "elif operacion==\"divide\":\n",
    "\tprint(divide(op1,op2))\n",
    "\n",
    "\n",
    "else:\n",
    "\tprint (\"Operación no contemplada\")\n",
    "\n",
    "\n",
    "print(\"Operación ejecutada. Continuación de ejecúción del programa \")"
   ]
  },
  {
   "cell_type": "markdown",
   "metadata": {},
   "source": [
    "##### Capturar errores de forma consecutiva"
   ]
  },
  {
   "cell_type": "code",
   "execution_count": 5,
   "metadata": {},
   "outputs": [
    {
     "name": "stdout",
     "output_type": "stream",
     "text": [
      "Introduce el primer numero: 2\n",
      "Introduce el segundo numero: 0\n",
      "No se puede dividir entre 0\n",
      "Calculo finalizado\n"
     ]
    }
   ],
   "source": [
    "def divide():\n",
    "    \n",
    "    try:\n",
    "        op1=(float(input(\"Introduce el primer numero: \")))\n",
    "        op2=(float(input(\"Introduce el segundo numero: \")))\n",
    "        print(\"La división es: \" + str(op1/op2))\n",
    "        \n",
    "    except ValueError:\n",
    "        print(\"El valor introducido es erróneo\")\n",
    "    \n",
    "    except ZeroDivisionError:\n",
    "        print(\"No se puede dividir entre 0\")\n",
    "    \n",
    "    print(\"Calculo finalizado\")\n",
    "    \n",
    "\n",
    "divide()\n",
    "    \n",
    "    "
   ]
  },
  {
   "cell_type": "markdown",
   "metadata": {},
   "source": [
    "##### Calculando errores: Todos, no recomentado!"
   ]
  },
  {
   "cell_type": "code",
   "execution_count": 7,
   "metadata": {},
   "outputs": [
    {
     "name": "stdout",
     "output_type": "stream",
     "text": [
      "Introduce el primer numero: asd\n",
      "Ha ocurrido un error\n",
      "Calculo finalizado\n"
     ]
    }
   ],
   "source": [
    "def divide():\n",
    "    \n",
    "    try:\n",
    "        op1=(float(input(\"Introduce el primer numero: \")))\n",
    "        op2=(float(input(\"Introduce el segundo numero: \")))\n",
    "        print(\"La división es: \" + str(op1/op2))\n",
    "        \n",
    "    except:\n",
    "        print(\"Ha ocurrido un error\")\n",
    "    \n",
    "    print(\"Calculo finalizado\")\n",
    "    \n",
    "\n",
    "divide()"
   ]
  },
  {
   "cell_type": "markdown",
   "metadata": {},
   "source": [
    "El finally va algo que queremos q se ejecute sí o sí"
   ]
  },
  {
   "cell_type": "code",
   "execution_count": 9,
   "metadata": {},
   "outputs": [
    {
     "name": "stdout",
     "output_type": "stream",
     "text": [
      "Introduce el primer numero: 0\n",
      "Introduce el segundo numero: 0\n",
      "Ha ocurrido un error\n",
      "Calculo finalizado\n"
     ]
    }
   ],
   "source": [
    "def divide():\n",
    "    \n",
    "    try:\n",
    "        op1=(float(input(\"Introduce el primer numero: \")))\n",
    "        op2=(float(input(\"Introduce el segundo numero: \")))\n",
    "        print(\"La división es: \" + str(op1/op2))\n",
    "        \n",
    "    except:\n",
    "        print(\"Ha ocurrido un error\")\n",
    "    \n",
    "    finally:\n",
    "        print(\"Calculo finalizado\")\n",
    "    \n",
    "\n",
    "divide()"
   ]
  },
  {
   "cell_type": "markdown",
   "metadata": {},
   "source": [
    "También se puede omitir el except. De este modo se ejecuta el Finally siempre y luego recién retorna el error"
   ]
  },
  {
   "cell_type": "code",
   "execution_count": 10,
   "metadata": {},
   "outputs": [
    {
     "name": "stdout",
     "output_type": "stream",
     "text": [
      "Introduce el primer numero: asdad\n",
      "Calculo finalizado\n"
     ]
    },
    {
     "ename": "ValueError",
     "evalue": "could not convert string to float: 'asdad'",
     "output_type": "error",
     "traceback": [
      "\u001b[1;31m---------------------------------------------------------------------------\u001b[0m",
      "\u001b[1;31mValueError\u001b[0m                                Traceback (most recent call last)",
      "\u001b[1;32m<ipython-input-10-3bf156b183f2>\u001b[0m in \u001b[0;36m<module>\u001b[1;34m\u001b[0m\n\u001b[0;32m     11\u001b[0m \u001b[1;33m\u001b[0m\u001b[0m\n\u001b[0;32m     12\u001b[0m \u001b[1;33m\u001b[0m\u001b[0m\n\u001b[1;32m---> 13\u001b[1;33m \u001b[0mdivide\u001b[0m\u001b[1;33m(\u001b[0m\u001b[1;33m)\u001b[0m\u001b[1;33m\u001b[0m\u001b[1;33m\u001b[0m\u001b[0m\n\u001b[0m",
      "\u001b[1;32m<ipython-input-10-3bf156b183f2>\u001b[0m in \u001b[0;36mdivide\u001b[1;34m()\u001b[0m\n\u001b[0;32m      2\u001b[0m \u001b[1;33m\u001b[0m\u001b[0m\n\u001b[0;32m      3\u001b[0m     \u001b[1;32mtry\u001b[0m\u001b[1;33m:\u001b[0m\u001b[1;33m\u001b[0m\u001b[1;33m\u001b[0m\u001b[0m\n\u001b[1;32m----> 4\u001b[1;33m         \u001b[0mop1\u001b[0m\u001b[1;33m=\u001b[0m\u001b[1;33m(\u001b[0m\u001b[0mfloat\u001b[0m\u001b[1;33m(\u001b[0m\u001b[0minput\u001b[0m\u001b[1;33m(\u001b[0m\u001b[1;34m\"Introduce el primer numero: \"\u001b[0m\u001b[1;33m)\u001b[0m\u001b[1;33m)\u001b[0m\u001b[1;33m)\u001b[0m\u001b[1;33m\u001b[0m\u001b[1;33m\u001b[0m\u001b[0m\n\u001b[0m\u001b[0;32m      5\u001b[0m         \u001b[0mop2\u001b[0m\u001b[1;33m=\u001b[0m\u001b[1;33m(\u001b[0m\u001b[0mfloat\u001b[0m\u001b[1;33m(\u001b[0m\u001b[0minput\u001b[0m\u001b[1;33m(\u001b[0m\u001b[1;34m\"Introduce el segundo numero: \"\u001b[0m\u001b[1;33m)\u001b[0m\u001b[1;33m)\u001b[0m\u001b[1;33m)\u001b[0m\u001b[1;33m\u001b[0m\u001b[1;33m\u001b[0m\u001b[0m\n\u001b[0;32m      6\u001b[0m         \u001b[0mprint\u001b[0m\u001b[1;33m(\u001b[0m\u001b[1;34m\"La división es: \"\u001b[0m \u001b[1;33m+\u001b[0m \u001b[0mstr\u001b[0m\u001b[1;33m(\u001b[0m\u001b[0mop1\u001b[0m\u001b[1;33m/\u001b[0m\u001b[0mop2\u001b[0m\u001b[1;33m)\u001b[0m\u001b[1;33m)\u001b[0m\u001b[1;33m\u001b[0m\u001b[1;33m\u001b[0m\u001b[0m\n",
      "\u001b[1;31mValueError\u001b[0m: could not convert string to float: 'asdad'"
     ]
    }
   ],
   "source": [
    "def divide():\n",
    "    \n",
    "    try:\n",
    "        op1=(float(input(\"Introduce el primer numero: \")))\n",
    "        op2=(float(input(\"Introduce el segundo numero: \")))\n",
    "        print(\"La división es: \" + str(op1/op2))\n",
    "        \n",
    "    \n",
    "    finally:\n",
    "        print(\"Calculo finalizado\")\n",
    "    \n",
    "\n",
    "divide()"
   ]
  },
  {
   "cell_type": "code",
   "execution_count": null,
   "metadata": {},
   "outputs": [],
   "source": []
  }
 ],
 "metadata": {
  "kernelspec": {
   "display_name": "Python 3",
   "language": "python",
   "name": "python3"
  },
  "language_info": {
   "codemirror_mode": {
    "name": "ipython",
    "version": 3
   },
   "file_extension": ".py",
   "mimetype": "text/x-python",
   "name": "python",
   "nbconvert_exporter": "python",
   "pygments_lexer": "ipython3",
   "version": "3.7.4"
  }
 },
 "nbformat": 4,
 "nbformat_minor": 2
}

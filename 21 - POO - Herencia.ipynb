{
 "cells": [
  {
   "cell_type": "markdown",
   "metadata": {},
   "source": [
    "#### Herencia"
   ]
  },
  {
   "cell_type": "markdown",
   "metadata": {},
   "source": [
    "En analogia con una familia, donde parte del abuelo, padre e hijos (nietos del abuelo). Similar sucede\n",
    "en la programación.\n",
    "\n",
    "El abuelo viene a ser una clase (llamemosle clase A) padre o superclase.\n",
    "El padre, hijo del abuelo, viene a ser otra clase (llamemosle clase B). Es una subclase de la clase A, pero a su vez es una superclase de la clase C (Que vendria a ser sus hijos) "
   ]
  },
  {
   "cell_type": "markdown",
   "metadata": {},
   "source": [
    "En general la herencia permite el reutilizar codig al crear objetos similares.\n",
    "\n",
    "Por ejm, si hablamos de medios de transporte: ¿Qué característica en común tienen todos los objetos? \n",
    "* Marca \n",
    "* Modelo\n",
    "\n",
    "Del mismo modo, ¿qué compartamientoe n común?\n",
    "* Arrancar\n",
    "* Acelerar\n",
    "* Frenar"
   ]
  },
  {
   "cell_type": "code",
   "execution_count": 6,
   "metadata": {},
   "outputs": [
    {
     "name": "stdout",
     "output_type": "stream",
     "text": [
      "La marca es: Honda \n",
      " Modelo: CBR\n"
     ]
    }
   ],
   "source": [
    "class Vehiculos:\n",
    "    \n",
    "    def __init__(self, marca, modelo):\n",
    "        self.marca = marca\n",
    "        self.modelo = modelo\n",
    "        self.enmarcha = False\n",
    "        self.acelera = False\n",
    "        self.frena = False\n",
    "    \n",
    "    def arrancar(self):\n",
    "        self.enmarcha = True\n",
    "    \n",
    "    \n",
    "    def acelerar(self):\n",
    "        self.acelera = True\n",
    "    \n",
    "    def frenar(self):\n",
    "        self.frena = True\n",
    "    \n",
    "    def estado(self):\n",
    "        print(f\"La marca es: {self.marca} \\n Modelo: {self.modelo}\")\n",
    "        \n",
    "\n",
    "    #La clase Moto hereda la clase vehiculos\n",
    "class Moto(Vehiculos):\n",
    "    pass\n",
    "\n",
    "miMoto = Moto(\"Honda\", \"CBR\")\n",
    "miMoto.estado()"
   ]
  },
  {
   "cell_type": "markdown",
   "metadata": {},
   "source": [
    "##### Sobreescribir Método"
   ]
  },
  {
   "cell_type": "code",
   "execution_count": 32,
   "metadata": {},
   "outputs": [
    {
     "name": "stdout",
     "output_type": "stream",
     "text": [
      "La marca es: Honda \n",
      " Modelo: CBR \n",
      " En mercha: False \n",
      " Acelerando: False \n",
      " Frenado: False \n",
      " Voy haciendo el caballito\n"
     ]
    }
   ],
   "source": [
    "class Vehiculos:\n",
    "    \n",
    "    def __init__(self, marca, modelo):\n",
    "        self.marca = marca\n",
    "        self.modelo = modelo\n",
    "        self.enmarcha = False\n",
    "        self.acelera = False\n",
    "        self.frena = False\n",
    "    \n",
    "    def arrancar(self):\n",
    "        self.enmarcha = True\n",
    "    \n",
    "    \n",
    "    def acelerar(self):\n",
    "        self.acelera = True\n",
    "    \n",
    "    def frenar(self):\n",
    "        self.frena = True\n",
    "    \n",
    "    def estado(self):\n",
    "        print(f\"La marca es: {self.marca} \\n Modelo: {self.modelo} \\n En mercha: {self.enmarcha} \\n Acelerando: {self.acelera} \\n Frenado: {self.frena}\")\n",
    "        \n",
    "        \n",
    "        \n",
    "#La clase Moto hereda la clase vehiculos\n",
    "class Moto(Vehiculos):\n",
    "    hcaballito = \"\"\n",
    "    def caballito(self):\n",
    "        self.hcaballito=\"Voy haciendo el caballito\"\n",
    "\n",
    "    #Como quiero mostrar en el estado que estoy haciendo el caballito\n",
    "    #Necesito SOBREESRIBIR EL METODO\n",
    "    def estado(self):\n",
    "              print(f\"La marca es: {self.marca} \\n Modelo: {self.modelo} \\n En mercha: {self.enmarcha} \\n Acelerando: {self.acelera} \\n Frenado: {self.frena} \\n {self.hcaballito}\")\n",
    "         \n",
    "\n",
    "miMoto = Moto(\"Honda\", \"CBR\")\n",
    "                                                                   \n",
    "#Con esto a que método estoy llamando? Pues al de la clase metodo puesto que sobreescribre\n",
    "#Anula el de la otra clase\n",
    "miMoto.caballito()\n",
    "miMoto.estado()"
   ]
  },
  {
   "cell_type": "markdown",
   "metadata": {},
   "source": [
    "##### Herencia multiple"
   ]
  },
  {
   "cell_type": "code",
   "execution_count": 38,
   "metadata": {},
   "outputs": [
    {
     "name": "stdout",
     "output_type": "stream",
     "text": [
      "100\n"
     ]
    }
   ],
   "source": [
    "class Vehiculos:\n",
    "    \n",
    "    def __init__(self, marca, modelo):\n",
    "        self.marca = marca\n",
    "        self.modelo = modelo\n",
    "        self.enmarcha = False\n",
    "        self.acelera = False\n",
    "        self.frena = False\n",
    "    \n",
    "    def arrancar(self):\n",
    "        self.enmarcha = True\n",
    "    \n",
    "    \n",
    "    def acelerar(self):\n",
    "        self.acelera = True\n",
    "    \n",
    "    def frenar(self):\n",
    "        self.frena = True\n",
    "    \n",
    "    def estado(self):\n",
    "        print(f\"La marca es: {self.marca} \\n Modelo: {self.modelo} \\n En mercha: {self.enmarcha} \\n Acelerando: {self.acelera} \\n Frenado: {self.frena}\")\n",
    "        \n",
    "        \n",
    "        \n",
    "\n",
    "#Clase de vehiculos electricos\n",
    "class VElectricos:\n",
    "    def __init__(self):\n",
    "        self.autonomia = 100\n",
    "    \n",
    "    def cargarEnergia(self):\n",
    "        self.cargando=True\n",
    "\n",
    "#La bicicleta electrica hereda de vehiculos y vehiculos electricos. En el orden\n",
    "#Q especifica entre las parenttess:\n",
    "#ESto es para aquellos metodos con el mismo nombre. Por ejm el init\n",
    "class BicicletaElectrica(VElectricos, Vehiculos):\n",
    "    pass\n",
    "\n",
    "#Esto daría error:\n",
    "#miBici = BicicletaElectrica(\"Orbea\", \"HC1300\")\n",
    "\n",
    "#ESto no\n",
    "miBici = BicicletaElectrica()\n",
    "print(miBici.autonomia)\n",
    "    "
   ]
  },
  {
   "cell_type": "markdown",
   "metadata": {},
   "source": [
    "##### Usando Super\n",
    "\n",
    "super(): Llama al metodo del padre"
   ]
  },
  {
   "cell_type": "code",
   "execution_count": 48,
   "metadata": {},
   "outputs": [
    {
     "ename": "AttributeError",
     "evalue": "'Empleado' object has no attribute 'nombre'",
     "output_type": "error",
     "traceback": [
      "\u001b[1;31m---------------------------------------------------------------------------\u001b[0m",
      "\u001b[1;31mAttributeError\u001b[0m                            Traceback (most recent call last)",
      "\u001b[1;32m<ipython-input-48-43e2d4ede069>\u001b[0m in \u001b[0;36m<module>\u001b[1;34m\u001b[0m\n\u001b[0;32m     20\u001b[0m \u001b[1;31m#Si quiero crear empleado:\u001b[0m\u001b[1;33m\u001b[0m\u001b[1;33m\u001b[0m\u001b[1;33m\u001b[0m\u001b[0m\n\u001b[0;32m     21\u001b[0m \u001b[0mAntony\u001b[0m \u001b[1;33m=\u001b[0m \u001b[0mEmpleado\u001b[0m\u001b[1;33m(\u001b[0m\u001b[1;36m1500\u001b[0m\u001b[1;33m,\u001b[0m\u001b[1;36m15\u001b[0m\u001b[1;33m)\u001b[0m\u001b[1;33m\u001b[0m\u001b[1;33m\u001b[0m\u001b[0m\n\u001b[1;32m---> 22\u001b[1;33m \u001b[0mAntony\u001b[0m\u001b[1;33m.\u001b[0m\u001b[0mdescripcion\u001b[0m\u001b[1;33m(\u001b[0m\u001b[1;33m)\u001b[0m\u001b[1;33m\u001b[0m\u001b[1;33m\u001b[0m\u001b[0m\n\u001b[0m",
      "\u001b[1;32m<ipython-input-48-43e2d4ede069>\u001b[0m in \u001b[0;36mdescripcion\u001b[1;34m(self)\u001b[0m\n\u001b[0;32m      6\u001b[0m \u001b[1;33m\u001b[0m\u001b[0m\n\u001b[0;32m      7\u001b[0m     \u001b[1;32mdef\u001b[0m \u001b[0mdescripcion\u001b[0m\u001b[1;33m(\u001b[0m\u001b[0mself\u001b[0m\u001b[1;33m)\u001b[0m\u001b[1;33m:\u001b[0m\u001b[1;33m\u001b[0m\u001b[1;33m\u001b[0m\u001b[0m\n\u001b[1;32m----> 8\u001b[1;33m         \u001b[0mprint\u001b[0m\u001b[1;33m(\u001b[0m\u001b[1;34m\"Nombre: \"\u001b[0m\u001b[1;33m,\u001b[0m \u001b[0mself\u001b[0m\u001b[1;33m.\u001b[0m\u001b[0mnombre\u001b[0m\u001b[1;33m,\u001b[0m \u001b[1;34m\" Edad: \"\u001b[0m\u001b[1;33m,\u001b[0m \u001b[0mself\u001b[0m\u001b[1;33m.\u001b[0m\u001b[0medad\u001b[0m\u001b[1;33m,\u001b[0m \u001b[1;34m\" Residencia: \"\u001b[0m\u001b[1;33m,\u001b[0m \u001b[0mself\u001b[0m\u001b[1;33m.\u001b[0m\u001b[0mlugar_residencia\u001b[0m\u001b[1;33m)\u001b[0m\u001b[1;33m\u001b[0m\u001b[1;33m\u001b[0m\u001b[0m\n\u001b[0m\u001b[0;32m      9\u001b[0m \u001b[1;33m\u001b[0m\u001b[0m\n\u001b[0;32m     10\u001b[0m \u001b[1;33m\u001b[0m\u001b[0m\n",
      "\u001b[1;31mAttributeError\u001b[0m: 'Empleado' object has no attribute 'nombre'"
     ]
    }
   ],
   "source": [
    "class Persona:\n",
    "    def __init__(self, nombre, edad, lugar_residencia):\n",
    "        self.nombre = nombre\n",
    "        self.edad = edad\n",
    "        self.lugar_residencia = lugar_residencia\n",
    "    \n",
    "    def descripcion(self):\n",
    "        print(\"Nombre: \", self.nombre, \" Edad: \", self.edad, \" Residencia: \", self.lugar_residencia)\n",
    "        \n",
    "\n",
    "class Empleado(Persona):\n",
    "    def __init__(self, salario, antiguedad):\n",
    "        self.salario = salario\n",
    "        self.antiguedad = antiguedad\n",
    "\n",
    "    \n",
    "#Antony = Persona(\"Antonio\", 55, \"España\")\n",
    "#Antony.descripcion()\n",
    "\n",
    "#Si quiero crear empleado:\n",
    "Antony = Empleado(1500,15)\n",
    "Antony.descripcion()\n"
   ]
  },
  {
   "cell_type": "markdown",
   "metadata": {},
   "source": [
    "###### Necesito q empleado también herede el metodo init de Persona.\n",
    "\n",
    "El principio de sustitución: \"es siempre un/a\" \n",
    "Un empleado es siempre una persona, no al revés"
   ]
  },
  {
   "cell_type": "code",
   "execution_count": 57,
   "metadata": {},
   "outputs": [
    {
     "name": "stdout",
     "output_type": "stream",
     "text": [
      "Nombre:  Manolo  Edad:  55  Residencia:  Brasil\n",
      "salario:  1500  Antiguedad:  4\n"
     ]
    },
    {
     "data": {
      "text/plain": [
       "True"
      ]
     },
     "execution_count": 57,
     "metadata": {},
     "output_type": "execute_result"
    }
   ],
   "source": [
    "class Persona:\n",
    "    def __init__(self, nombre, edad, lugar_residencia):\n",
    "        self.nombre = nombre\n",
    "        self.edad = edad\n",
    "        self.lugar_residencia = lugar_residencia\n",
    "    \n",
    "    def descripcion(self):\n",
    "        print(\"Nombre: \", self.nombre, \" Edad: \", self.edad, \" Residencia: \", self.lugar_residencia)\n",
    "        \n",
    "  ##Como quiero crear un empleado con laas propiedad de persona también\n",
    "        \n",
    "class Empleado(Persona):\n",
    "    def __init__(self, salario, antiguedad, nombre_empleado, edad_empleado, residencia_empleado):\n",
    "        super().__init__(nombre_empleado, edad_empleado, residencia_empleado)\n",
    "        self.salario = salario\n",
    "        self.antiguedad = antiguedad\n",
    "        \n",
    "    def descripcion(self):\n",
    "        super().descripcion()\n",
    "        print(\"salario: \", self.salario, \" Antiguedad: \", self.antiguedad)\n",
    "    \n",
    "  \n",
    "Mozo1 = Empleado(1500, 4, \"Manolo\", 55, \"Brasil\")\n",
    "Mozo1.descripcion()\n",
    "\n",
    "\n",
    "## ¿ES Mozo1 una instancia de Empleado?\n",
    "isinstance(Mozo1, Empleado)\n",
    "# isinstance(Mozo1, Persona)"
   ]
  }
 ],
 "metadata": {
  "kernelspec": {
   "display_name": "Python 3",
   "language": "python",
   "name": "python3"
  },
  "language_info": {
   "codemirror_mode": {
    "name": "ipython",
    "version": 3
   },
   "file_extension": ".py",
   "mimetype": "text/x-python",
   "name": "python",
   "nbconvert_exporter": "python",
   "pygments_lexer": "ipython3",
   "version": "3.7.4"
  }
 },
 "nbformat": 4,
 "nbformat_minor": 2
}

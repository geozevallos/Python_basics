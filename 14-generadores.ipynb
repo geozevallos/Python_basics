{
 "cells": [
  {
   "cell_type": "markdown",
   "metadata": {},
   "source": [
    "##### GENERADORES"
   ]
  },
  {
   "cell_type": "markdown",
   "metadata": {},
   "source": [
    "* Son estructuras que extraen valores de una función y se almacenan en objetos iterables\n",
    "* Los valores se almacenan uno por uno\n",
    "* Los valores se quedan almacenados y permanecen en un suspensión de estado (o estado pausado)"
   ]
  },
  {
   "cell_type": "markdown",
   "metadata": {},
   "source": [
    "##### Beneficios:\n",
    "* Son más eficientes q una función tradicional\n",
    "* Sirve más ocon lista de valores infinitos"
   ]
  },
  {
   "cell_type": "markdown",
   "metadata": {},
   "source": [
    "##### Funcion de numeros pares"
   ]
  },
  {
   "cell_type": "code",
   "execution_count": 2,
   "metadata": {},
   "outputs": [
    {
     "name": "stdout",
     "output_type": "stream",
     "text": [
      "[2, 4, 6, 8, 10, 12, 14, 16, 18]\n"
     ]
    }
   ],
   "source": [
    "def generarPares(limite):\n",
    "    num = 1\n",
    "    miLista =[]\n",
    "    while num < limite:\n",
    "        miLista.append(num*2)\n",
    "        num = num + 1\n",
    "    return miLista\n",
    "\n",
    "print(generarPares(10))"
   ]
  },
  {
   "cell_type": "markdown",
   "metadata": {},
   "source": [
    "Ahora, usando Generadores. Recordar que el yield genera un objeoto iterable"
   ]
  },
  {
   "cell_type": "code",
   "execution_count": 7,
   "metadata": {},
   "outputs": [
    {
     "name": "stdout",
     "output_type": "stream",
     "text": [
      "2\n",
      "4\n",
      "6\n",
      "8\n",
      "10\n",
      "12\n",
      "14\n",
      "16\n",
      "18\n"
     ]
    }
   ],
   "source": [
    "def generarPares(limite):\n",
    "    num = 1 \n",
    "    while num < limite:\n",
    "        yield num * 2\n",
    "        num = num + 1\n",
    "\n",
    "devuelvePares = generarPares(10)\n",
    "\n",
    "for i in devuelvePares:\n",
    "    print(i)"
   ]
  },
  {
   "cell_type": "code",
   "execution_count": 8,
   "metadata": {},
   "outputs": [
    {
     "name": "stdout",
     "output_type": "stream",
     "text": [
      "2\n",
      "Codigo cualquiera\n",
      "4\n",
      "Codigo cualquiera\n",
      "6\n",
      "Codigo cualquiera\n"
     ]
    }
   ],
   "source": [
    "def generarPares(limite):\n",
    "    num = 1 \n",
    "    while num < limite:\n",
    "        yield num * 2\n",
    "        num = num + 1\n",
    "\n",
    "devuelvePares = generarPares(10)\n",
    "\n",
    "print(next(devuelvePares))\n",
    "\n",
    "print(\"Codigo cualquiera\")\n",
    "print(next(devuelvePares))\n",
    "\n",
    "print(\"Codigo cualquiera\")\n",
    "\n",
    "print(next(devuelvePares))\n",
    "\n",
    "print(\"Codigo cualquiera\")"
   ]
  }
 ],
 "metadata": {
  "kernelspec": {
   "display_name": "Python 3",
   "language": "python",
   "name": "python3"
  },
  "language_info": {
   "codemirror_mode": {
    "name": "ipython",
    "version": 3
   },
   "file_extension": ".py",
   "mimetype": "text/x-python",
   "name": "python",
   "nbconvert_exporter": "python",
   "pygments_lexer": "ipython3",
   "version": "3.7.4"
  }
 },
 "nbformat": 4,
 "nbformat_minor": 2
}

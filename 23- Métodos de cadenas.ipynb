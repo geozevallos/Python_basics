{
 "cells": [
  {
   "cell_type": "markdown",
   "metadata": {},
   "source": [
    "#### STRINGS"
   ]
  },
  {
   "cell_type": "markdown",
   "metadata": {},
   "source": [
    "* upper(): Devuelve a mayúsculas\n",
    "* lower(): Devuelvee a minúsculas\n",
    "* capitalize(): Pone la primera letra en mayúscula\n",
    "* count(): Cuenta cuantas veces aparece una letra o cadena dentro de un texto\n",
    "* find(): Muestra el indice en el cual aparece\n",
    "* isdigit(): Devuelvee booleano, nos dice si el valor introducido es un digito numerico\n",
    "* isalnum(): Comprueba si es alfanumerico\n",
    "* isalpha(): Comprobar si hay solo letras, nos cuenta epsacios\n",
    "* split(): Separa por palabras\n",
    "* strip(): Borra los espacios sobrantes al incio o al final\n",
    "* replace(): reemplaza un valor\n",
    "* rfind(): representa el indicee contando desde atraás"
   ]
  },
  {
   "cell_type": "code",
   "execution_count": 6,
   "metadata": {},
   "outputs": [
    {
     "name": "stdout",
     "output_type": "stream",
     "text": [
      "Introduce tu nombre de Usuario: jorge ernesto\n",
      "Jorge ernesto\n",
      "JORGE ERNESTO\n",
      "jorge ernesto\n",
      "3\n"
     ]
    }
   ],
   "source": [
    "nombreUsuario = input(\"Introduce tu nombre de Usuario: \")\n",
    "print(nombreUsuario.capitalize())\n",
    "print(nombreUsuario.upper())\n",
    "print(nombreUsuario.lower())\n",
    "print(nombreUsuario.count(\"e\"))"
   ]
  },
  {
   "cell_type": "code",
   "execution_count": 13,
   "metadata": {},
   "outputs": [
    {
     "name": "stdout",
     "output_type": "stream",
     "text": [
      "Introduce tu edad: sss\n",
      "False\n",
      "True\n"
     ]
    }
   ],
   "source": [
    "edad = input(\"Introduce tu edad: \")\n",
    "print(edad.isdigit())\n",
    "print(edad.isalnum())"
   ]
  },
  {
   "cell_type": "code",
   "execution_count": 15,
   "metadata": {},
   "outputs": [
    {
     "name": "stdout",
     "output_type": "stream",
     "text": [
      "Introduce tu edad: adads\n",
      "Por favor ingrese un número\n",
      "Introduce tu edad: asd\n",
      "Por favor ingrese un número\n",
      "Introduce tu edad: 12\n",
      "No puedes pasar!!\n"
     ]
    }
   ],
   "source": [
    "edad = input(\"Introduce tu edad: \")\n",
    "\n",
    "while (edad.isdigit() == False):\n",
    "    print(\"Por favor ingrese un número\")\n",
    "    edad = input(\"Introduce tu edad: \")\n",
    "\n",
    "if (int(edad) < 18):\n",
    "    print(\"No puedes pasar!!\")\n",
    "else:\n",
    "    print(\"adelante :D \")"
   ]
  }
 ],
 "metadata": {
  "kernelspec": {
   "display_name": "Python 3",
   "language": "python",
   "name": "python3"
  },
  "language_info": {
   "codemirror_mode": {
    "name": "ipython",
    "version": 3
   },
   "file_extension": ".py",
   "mimetype": "text/x-python",
   "name": "python",
   "nbconvert_exporter": "python",
   "pygments_lexer": "ipython3",
   "version": "3.7.4"
  }
 },
 "nbformat": 4,
 "nbformat_minor": 2
}

{
 "cells": [
  {
   "cell_type": "markdown",
   "metadata": {},
   "source": [
    "#####  Creando clases:"
   ]
  },
  {
   "cell_type": "code",
   "execution_count": 16,
   "metadata": {},
   "outputs": [
    {
     "name": "stdout",
     "output_type": "stream",
     "text": [
      "El coche está en marcha\n",
      "Tiene 4 ruedas, el largo es 250, su ancho 120\n"
     ]
    }
   ],
   "source": [
    "class Coche():\n",
    "    \n",
    "    #Propiedades\n",
    "    largo = 250\n",
    "    ancho = 120\n",
    "    ruedas = 4\n",
    "    enmarcha = False\n",
    "    \n",
    "    #Metodos (Comportamiento): Función q pertenece a una clase\n",
    "    #def NombreDeLaFuncion (Self => hace referencia al objeto perteneciente a la clase\n",
    "    # es un parámetro obligatorio)\n",
    "    \n",
    "    def arrancar(self, arrancamos):\n",
    "        self.enmarcha = arrancamos\n",
    "        if(self.enmarcha == True):\n",
    "            return print(\"El coche está en marcha\")\n",
    "        else:\n",
    "            return print(\"El coche está parado\")\n",
    "    \n",
    "    def estado(self):\n",
    "        print(f\"Tiene {self.ruedas} ruedas, el largo es {self.largo}, su ancho {self.ancho}\")\n",
    "        \n",
    "\n",
    "#Esto es instanciar una clase (Crear objeto)\n",
    "miCoche = Coche()\n",
    "\n",
    "# print(f'El largo del coche es {miCoche.largo}')\n",
    "# print(f'El coche tiene {miCoche.ruedas} ruedas')\n",
    "\n",
    "#Entonces mi coche pasa como parametro a la función arrancar\n",
    "miCoche.arrancar(True)\n",
    "miCoche.estado()"
   ]
  },
  {
   "cell_type": "code",
   "execution_count": 19,
   "metadata": {},
   "outputs": [
    {
     "name": "stdout",
     "output_type": "stream",
     "text": [
      "El coche está parado\n",
      "Tiene 4 ruedas, el largo es 250, su ancho 120\n"
     ]
    }
   ],
   "source": [
    "miCarro = Coche()\n",
    "miCarro.arrancar(False)\n",
    "miCarro.estado()\n"
   ]
  },
  {
   "cell_type": "markdown",
   "metadata": {},
   "source": [
    "##### Las características en común suelen ser parte de un estado Inicial"
   ]
  },
  {
   "cell_type": "code",
   "execution_count": 22,
   "metadata": {},
   "outputs": [
    {
     "data": {
      "text/plain": [
       "250"
      ]
     },
     "execution_count": 22,
     "metadata": {},
     "output_type": "execute_result"
    }
   ],
   "source": [
    "class Coche():\n",
    "    def __init__(self):\n",
    "        self.largo = 250\n",
    "        self.ancho = 120\n",
    "        self.ruedas = 4\n",
    "        self.enmarcha = False\n",
    "\n",
    "carrito = Coche()\n",
    "carrito.largo"
   ]
  },
  {
   "cell_type": "markdown",
   "metadata": {},
   "source": [
    "Por ejm: No quiero q la propiedad ruedas sea accedida desde fuera, para ello se encapsula\n",
    "con 2 guiones abajo (__)"
   ]
  },
  {
   "cell_type": "code",
   "execution_count": 30,
   "metadata": {},
   "outputs": [
    {
     "name": "stdout",
     "output_type": "stream",
     "text": [
      "120\n"
     ]
    },
    {
     "ename": "AttributeError",
     "evalue": "'Coche2' object has no attribute '__ruedas'",
     "output_type": "error",
     "traceback": [
      "\u001b[1;31m---------------------------------------------------------------------------\u001b[0m",
      "\u001b[1;31mAttributeError\u001b[0m                            Traceback (most recent call last)",
      "\u001b[1;32m<ipython-input-30-094ae530c1a2>\u001b[0m in \u001b[0;36m<module>\u001b[1;34m\u001b[0m\n\u001b[0;32m      9\u001b[0m \u001b[0mprint\u001b[0m\u001b[1;33m(\u001b[0m\u001b[0mnissan\u001b[0m\u001b[1;33m.\u001b[0m\u001b[0mancho\u001b[0m\u001b[1;33m)\u001b[0m\u001b[1;33m\u001b[0m\u001b[1;33m\u001b[0m\u001b[0m\n\u001b[0;32m     10\u001b[0m \u001b[1;31m#No se puede acceder al ruedas desde fuera de la clase\u001b[0m\u001b[1;33m\u001b[0m\u001b[1;33m\u001b[0m\u001b[1;33m\u001b[0m\u001b[0m\n\u001b[1;32m---> 11\u001b[1;33m \u001b[0mprint\u001b[0m\u001b[1;33m(\u001b[0m\u001b[0mnissan\u001b[0m\u001b[1;33m.\u001b[0m\u001b[0m__ruedas\u001b[0m\u001b[1;33m)\u001b[0m\u001b[1;33m\u001b[0m\u001b[1;33m\u001b[0m\u001b[0m\n\u001b[0m",
      "\u001b[1;31mAttributeError\u001b[0m: 'Coche2' object has no attribute '__ruedas'"
     ]
    }
   ],
   "source": [
    "class Coche2():\n",
    "    def __init__(self):\n",
    "        self.largo = 250\n",
    "        self.ancho = 120\n",
    "        self.__ruedas = 4\n",
    "        self.enmarcha = False\n",
    "\n",
    "nissan = Coche2()\n",
    "print(nissan.ancho)\n",
    "#No se puede acceder al ruedas desde fuera de la clase\n",
    "print(nissan.__ruedas)"
   ]
  }
 ],
 "metadata": {
  "kernelspec": {
   "display_name": "Python 3",
   "language": "python",
   "name": "python3"
  },
  "language_info": {
   "codemirror_mode": {
    "name": "ipython",
    "version": 3
   },
   "file_extension": ".py",
   "mimetype": "text/x-python",
   "name": "python",
   "nbconvert_exporter": "python",
   "pygments_lexer": "ipython3",
   "version": "3.7.4"
  }
 },
 "nbformat": 4,
 "nbformat_minor": 2
}

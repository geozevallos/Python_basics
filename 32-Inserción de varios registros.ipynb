{
 "cells": [
  {
   "cell_type": "markdown",
   "id": "b37645da",
   "metadata": {},
   "source": [
    "### Insertar multiples registros"
   ]
  },
  {
   "cell_type": "code",
   "execution_count": 1,
   "id": "0260d582",
   "metadata": {},
   "outputs": [],
   "source": [
    "import sqlite3"
   ]
  },
  {
   "cell_type": "code",
   "execution_count": 2,
   "id": "299d9eaf",
   "metadata": {},
   "outputs": [],
   "source": [
    "miConexion = sqlite3.connect(\"primerabd\")"
   ]
  },
  {
   "cell_type": "code",
   "execution_count": 3,
   "id": "ea2f6e3f",
   "metadata": {},
   "outputs": [],
   "source": [
    "miCursor = miConexion.cursor()"
   ]
  },
  {
   "cell_type": "code",
   "execution_count": 5,
   "id": "446b12df",
   "metadata": {},
   "outputs": [],
   "source": [
    "variosProductos = [\n",
    "    (\"Camiseta\", 10, \"Deportes\"),\n",
    "    (\"Jarrón\", 90, \"Cerámica\"),\n",
    "    (\"Camión\", 60, \"Juguetería\")\n",
    "]"
   ]
  },
  {
   "cell_type": "markdown",
   "id": "3694fe99",
   "metadata": {},
   "source": [
    "En la sentencia un signo de pregunta se da por cada campo en la base de datos"
   ]
  },
  {
   "cell_type": "code",
   "execution_count": 6,
   "id": "544af151",
   "metadata": {},
   "outputs": [
    {
     "data": {
      "text/plain": [
       "<sqlite3.Cursor at 0x1e4c474eb20>"
      ]
     },
     "execution_count": 6,
     "metadata": {},
     "output_type": "execute_result"
    }
   ],
   "source": [
    "miCursor.executemany(\"INSERT INTO PRODUCTOS VALUES (?,?,?)\", variosProductos)"
   ]
  },
  {
   "cell_type": "markdown",
   "id": "7954b7ef",
   "metadata": {},
   "source": [
    "### Consultar a la base de datos"
   ]
  },
  {
   "cell_type": "code",
   "execution_count": 8,
   "id": "a251d072",
   "metadata": {},
   "outputs": [
    {
     "data": {
      "text/plain": [
       "<sqlite3.Cursor at 0x1e4c474eb20>"
      ]
     },
     "execution_count": 8,
     "metadata": {},
     "output_type": "execute_result"
    }
   ],
   "source": [
    "miCursor.execute(\"SELECT * FROM PRODUCTOS\")"
   ]
  },
  {
   "cell_type": "markdown",
   "id": "b8caea58",
   "metadata": {},
   "source": [
    "Para leer, necesitamos almacenarlos en una variable. fetchall -> Devuelve una lista con los registros\n",
    "que devuelve la sentencia SQL. Como se puede ver, es una lista de tuplas"
   ]
  },
  {
   "cell_type": "code",
   "execution_count": 9,
   "id": "084097ad",
   "metadata": {},
   "outputs": [
    {
     "name": "stdout",
     "output_type": "stream",
     "text": [
      "[('BALÓN', 24, 'DEPORTES'), ('Camiseta', 10, 'Deportes'), ('Jarrón', 90, 'Cerámica'), ('Camión', 60, 'Juguetería')]\n"
     ]
    }
   ],
   "source": [
    "productos = miCursor.fetchall()\n",
    "print(productos)"
   ]
  },
  {
   "cell_type": "code",
   "execution_count": 10,
   "id": "accd7a14",
   "metadata": {},
   "outputs": [
    {
     "name": "stdout",
     "output_type": "stream",
     "text": [
      "Nombre articulo:  BALÓN\n",
      "Nombre articulo:  Camiseta\n",
      "Nombre articulo:  Jarrón\n",
      "Nombre articulo:  Camión\n"
     ]
    }
   ],
   "source": [
    "for producto in productos:\n",
    "    print(\"Nombre articulo: \", producto[0])"
   ]
  },
  {
   "cell_type": "code",
   "execution_count": 7,
   "id": "06f96f8b",
   "metadata": {},
   "outputs": [],
   "source": [
    "miConexion.commit()"
   ]
  },
  {
   "cell_type": "code",
   "execution_count": 11,
   "id": "c09ceb2e",
   "metadata": {},
   "outputs": [],
   "source": [
    "miConexion.close()"
   ]
  }
 ],
 "metadata": {
  "kernelspec": {
   "display_name": "Python 3",
   "language": "python",
   "name": "python3"
  },
  "language_info": {
   "codemirror_mode": {
    "name": "ipython",
    "version": 3
   },
   "file_extension": ".py",
   "mimetype": "text/x-python",
   "name": "python",
   "nbconvert_exporter": "python",
   "pygments_lexer": "ipython3",
   "version": "3.7.4"
  }
 },
 "nbformat": 4,
 "nbformat_minor": 5
}

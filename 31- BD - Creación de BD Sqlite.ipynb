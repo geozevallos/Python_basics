{
 "cells": [
  {
   "cell_type": "markdown",
   "id": "9793e4e8",
   "metadata": {},
   "source": [
    "### BD con Python"
   ]
  },
  {
   "cell_type": "code",
   "execution_count": 1,
   "id": "0b415d8d",
   "metadata": {},
   "outputs": [],
   "source": [
    "import sqlite3"
   ]
  },
  {
   "cell_type": "markdown",
   "id": "eaeaa0fe",
   "metadata": {},
   "source": [
    "##### Paso 1 : Crear conexión"
   ]
  },
  {
   "cell_type": "code",
   "execution_count": 2,
   "id": "5999b3d3",
   "metadata": {},
   "outputs": [],
   "source": [
    "miConexion = sqlite3.connect(\"primerabd\")"
   ]
  },
  {
   "cell_type": "markdown",
   "id": "9dc19c89",
   "metadata": {},
   "source": [
    "##### Paso 2: Crear cursor"
   ]
  },
  {
   "cell_type": "code",
   "execution_count": 3,
   "id": "9856ce23",
   "metadata": {},
   "outputs": [],
   "source": [
    "miCursor = miConexion.cursor()"
   ]
  },
  {
   "cell_type": "markdown",
   "id": "0a86d5e3",
   "metadata": {},
   "source": [
    "##### Paso 3: Ejecutar query de consulta"
   ]
  },
  {
   "cell_type": "code",
   "execution_count": 5,
   "id": "0281b0b0",
   "metadata": {},
   "outputs": [
    {
     "data": {
      "text/plain": [
       "<sqlite3.Cursor at 0x1aef6438d50>"
      ]
     },
     "execution_count": 5,
     "metadata": {},
     "output_type": "execute_result"
    }
   ],
   "source": [
    "miCursor.execute(\"CREATE TABLE PRODUCTOS (NOMBRE_ARTICULO VARCHAR(50), PRECIO INTEGER(50), SECCION VARCHAR(20))\")"
   ]
  },
  {
   "cell_type": "markdown",
   "id": "f4c93d4b",
   "metadata": {},
   "source": [
    "##### Paso 4: Manejar los datos de la consulta"
   ]
  },
  {
   "cell_type": "code",
   "execution_count": 6,
   "id": "f8bbb17d",
   "metadata": {},
   "outputs": [
    {
     "data": {
      "text/plain": [
       "<sqlite3.Cursor at 0x1aef6438d50>"
      ]
     },
     "execution_count": 6,
     "metadata": {},
     "output_type": "execute_result"
    }
   ],
   "source": [
    "miCursor.execute(\"INSERT INTO PRODUCTOS VALUES('BALÓN', 24, 'DEPORTES')\")"
   ]
  },
  {
   "cell_type": "markdown",
   "id": "a59c39da",
   "metadata": {},
   "source": [
    "Con lo siguiente, digo que admito los cambios."
   ]
  },
  {
   "cell_type": "markdown",
   "id": "7167334f",
   "metadata": {},
   "source": [
    "##### Paso 5: Cerrar puntero"
   ]
  },
  {
   "cell_type": "code",
   "execution_count": 7,
   "id": "f975768e",
   "metadata": {},
   "outputs": [],
   "source": [
    "miConexion.commit()"
   ]
  },
  {
   "cell_type": "markdown",
   "id": "dcbffd38",
   "metadata": {},
   "source": [
    "##### Paso 6: Cerrar conexión:"
   ]
  },
  {
   "cell_type": "code",
   "execution_count": 8,
   "id": "4784f05a",
   "metadata": {},
   "outputs": [],
   "source": [
    "miConexion.close()"
   ]
  }
 ],
 "metadata": {
  "kernelspec": {
   "display_name": "Python 3",
   "language": "python",
   "name": "python3"
  },
  "language_info": {
   "codemirror_mode": {
    "name": "ipython",
    "version": 3
   },
   "file_extension": ".py",
   "mimetype": "text/x-python",
   "name": "python",
   "nbconvert_exporter": "python",
   "pygments_lexer": "ipython3",
   "version": "3.7.4"
  }
 },
 "nbformat": 4,
 "nbformat_minor": 5
}

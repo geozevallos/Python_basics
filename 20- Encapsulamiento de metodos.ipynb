{
 "cells": [
  {
   "cell_type": "markdown",
   "metadata": {},
   "source": [
    "#### Encapsulamiento de metodos"
   ]
  },
  {
   "cell_type": "code",
   "execution_count": 12,
   "metadata": {},
   "outputs": [],
   "source": [
    "class Coche():\n",
    "    \n",
    "    #Propiedades\n",
    "    def __init__(self):\n",
    "        self.__largo = 250\n",
    "        self.__ancho = 120\n",
    "        self.__ruedas = 4\n",
    "        self.__enmarcha = False\n",
    "    \n",
    "    #Metodos (Comportamiento): Función q pertenece a una clase\n",
    "    #def NombreDeLaFuncion (Self => hace referencia al objeto perteneciente a la clase\n",
    "    # es un parámetro obligatorio)\n",
    "    \n",
    "    ##Entiendase por arrancar, insertar la llave\n",
    "    def arrancar(self, arrancamos):\n",
    "        self.__enmarcha = arrancamos\n",
    "        \n",
    "        if(self.__enmarcha == True):\n",
    "            chequeo = self.__checkeo_interno()\n",
    "        \n",
    "        if(self.__enmarcha == True and chequeo == True):\n",
    "            return \"El coche está en marcha\"\n",
    "        \n",
    "        elif(self.__enmarcha and chequeo == False): \n",
    "            return \"Algo ha ido mal en el chequeo\"\n",
    "        \n",
    "        else:\n",
    "            return \"El coche está parado\"\n",
    "    \n",
    "    def estado(self):\n",
    "        print(f\"Tiene {self.__ruedas} ruedas, el largo es {self.__largo}, su ancho {self.__ancho}\")\n",
    "        \n",
    "    #Meotdo para realizar un chequeo interno\n",
    "\n",
    "    def __checkeo_interno(self):\n",
    "        print(\"Realizando chequeo interno\")\n",
    "        self.gasolina = \"ok\"\n",
    "        self.aceite = \"ok\"\n",
    "        self.puertas = \"cerradas\"\n",
    "        \n",
    "        if(self.gasolina==\"ok\" and self.aceite==\"ok\" and self.puertas==\"cerradas\"):\n",
    "            return True\n",
    "        else:\n",
    "            return False\n",
    "\n",
    "        \n"
   ]
  },
  {
   "cell_type": "code",
   "execution_count": 14,
   "metadata": {},
   "outputs": [
    {
     "name": "stdout",
     "output_type": "stream",
     "text": [
      "Realizando chequeo interno\n",
      "El coche está en marcha\n",
      "Tiene 4 ruedas, el largo es 250, su ancho 120\n",
      "El coche está parado\n",
      "Tiene 4 ruedas, el largo es 250, su ancho 120\n"
     ]
    }
   ],
   "source": [
    "\n",
    "#Esto es instanciar una clase (Crear objeto)\n",
    "miCoche = Coche()\n",
    "print(miCoche.arrancar(True))\n",
    "miCoche.estado()\n"
   ]
  },
  {
   "cell_type": "code",
   "execution_count": 15,
   "metadata": {},
   "outputs": [
    {
     "name": "stdout",
     "output_type": "stream",
     "text": [
      "El coche está parado\n",
      "Tiene 4 ruedas, el largo es 250, su ancho 120\n"
     ]
    }
   ],
   "source": [
    "miCarro = Coche()\n",
    "print(miCarro.arrancar(False))\n",
    "miCarro.estado()"
   ]
  }
 ],
 "metadata": {
  "kernelspec": {
   "display_name": "Python 3",
   "language": "python",
   "name": "python3"
  },
  "language_info": {
   "codemirror_mode": {
    "name": "ipython",
    "version": 3
   },
   "file_extension": ".py",
   "mimetype": "text/x-python",
   "name": "python",
   "nbconvert_exporter": "python",
   "pygments_lexer": "ipython3",
   "version": "3.7.4"
  }
 },
 "nbformat": 4,
 "nbformat_minor": 2
}

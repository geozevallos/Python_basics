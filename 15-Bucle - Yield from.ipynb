{
 "cells": [
  {
   "cell_type": "markdown",
   "metadata": {},
   "source": [
    "##### Creando funcion que deuelva ciudades"
   ]
  },
  {
   "cell_type": "markdown",
   "metadata": {},
   "source": [
    "En Python el * significa que va a recibir varios parametros. \n",
    "La siguiente función es un yield normal"
   ]
  },
  {
   "cell_type": "code",
   "execution_count": 2,
   "metadata": {},
   "outputs": [
    {
     "name": "stdout",
     "output_type": "stream",
     "text": [
      "Lima\n"
     ]
    }
   ],
   "source": [
    "def devuelve_ciudades(*ciudades):\n",
    "    for ciudad in ciudades:\n",
    "        yield ciudad\n",
    "\n",
    "ciudad_devueltas = devuelve_ciudades(\"Lima\", \"Trujillo\", \"Arequipa\")\n",
    "\n",
    "print(next(ciudad_devueltas))"
   ]
  },
  {
   "cell_type": "markdown",
   "metadata": {},
   "source": [
    "Si quisiera ingresar a los subelementos, por ejm Lima al ser texto puedo obtener las letras que la conforman"
   ]
  },
  {
   "cell_type": "code",
   "execution_count": 4,
   "metadata": {},
   "outputs": [
    {
     "name": "stdout",
     "output_type": "stream",
     "text": [
      "L\n",
      "i\n",
      "m\n"
     ]
    }
   ],
   "source": [
    "def devuelve_ciudades(*ciudades):\n",
    "    for ciudad in ciudades:\n",
    "        for letra in ciudad:\n",
    "            yield letra\n",
    "\n",
    "letra_devuelta = devuelve_ciudades(\"Lima\", \"Trujillo\", \"Arequipa\")\n",
    "\n",
    "print(next(letra_devuelta))\n",
    "print(next(letra_devuelta))\n",
    "print(next(letra_devuelta))"
   ]
  },
  {
   "cell_type": "markdown",
   "metadata": {},
   "source": [
    "##### Usando el from yield"
   ]
  },
  {
   "cell_type": "code",
   "execution_count": 5,
   "metadata": {},
   "outputs": [
    {
     "name": "stdout",
     "output_type": "stream",
     "text": [
      "L\n",
      "i\n",
      "m\n"
     ]
    }
   ],
   "source": [
    "def devuelve_ciudades(*ciudades):\n",
    "    for ciudad in ciudades:\n",
    "       yield from ciudad\n",
    "\n",
    "letra_devuelta = devuelve_ciudades(\"Lima\", \"Trujillo\", \"Arequipa\")\n",
    "\n",
    "print(next(letra_devuelta))\n",
    "print(next(letra_devuelta))\n",
    "print(next(letra_devuelta))"
   ]
  }
 ],
 "metadata": {
  "kernelspec": {
   "display_name": "Python 3",
   "language": "python",
   "name": "python3"
  },
  "language_info": {
   "codemirror_mode": {
    "name": "ipython",
    "version": 3
   },
   "file_extension": ".py",
   "mimetype": "text/x-python",
   "name": "python",
   "nbconvert_exporter": "python",
   "pygments_lexer": "ipython3",
   "version": "3.7.4"
  }
 },
 "nbformat": 4,
 "nbformat_minor": 2
}

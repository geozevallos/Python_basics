{
 "cells": [
  {
   "cell_type": "markdown",
   "metadata": {},
   "source": [
    "Lanzar una excepción hace referencia a que nosotros lancemos una excepción cuando ocurre algo. Es decir no el programa, sino nosotros mismos"
   ]
  },
  {
   "cell_type": "code",
   "execution_count": 2,
   "metadata": {},
   "outputs": [
    {
     "name": "stdout",
     "output_type": "stream",
     "text": [
      "Eres menor de edad\n"
     ]
    }
   ],
   "source": [
    "def evaluarEdad(edad):\n",
    "    if edad < 18:\n",
    "        return \"Eres menor de edad\"\n",
    "    if edad < 40:\n",
    "        return \"Ya estás acabado\"\n",
    "    elif edad < 70:\n",
    "        return \"Más acabado\"\n",
    "    elif edadd < 100:\n",
    "        return \"Prepara tu funeral :(\"\n",
    "        \n",
    "print(evaluarEdad(2))"
   ]
  },
  {
   "cell_type": "markdown",
   "metadata": {},
   "source": [
    "Con esto calcula algún error de Python, aún no es un error personalizado"
   ]
  },
  {
   "cell_type": "code",
   "execution_count": 7,
   "metadata": {},
   "outputs": [
    {
     "ename": "ZeroDivisionError",
     "evalue": "No se permiten edades negativas",
     "output_type": "error",
     "traceback": [
      "\u001b[1;31m---------------------------------------------------------------------------\u001b[0m",
      "\u001b[1;31mZeroDivisionError\u001b[0m                         Traceback (most recent call last)",
      "\u001b[1;32m<ipython-input-7-401afab8a2b7>\u001b[0m in \u001b[0;36m<module>\u001b[1;34m\u001b[0m\n\u001b[0;32m     12\u001b[0m         \u001b[1;32mreturn\u001b[0m \u001b[1;34m\"Prepara tu funeral :(\"\u001b[0m\u001b[1;33m\u001b[0m\u001b[1;33m\u001b[0m\u001b[0m\n\u001b[0;32m     13\u001b[0m \u001b[1;33m\u001b[0m\u001b[0m\n\u001b[1;32m---> 14\u001b[1;33m \u001b[0mprint\u001b[0m\u001b[1;33m(\u001b[0m\u001b[0mevaluarEdad\u001b[0m\u001b[1;33m(\u001b[0m\u001b[1;33m-\u001b[0m\u001b[1;36m1\u001b[0m\u001b[1;33m)\u001b[0m\u001b[1;33m)\u001b[0m\u001b[1;33m\u001b[0m\u001b[1;33m\u001b[0m\u001b[0m\n\u001b[0m",
      "\u001b[1;32m<ipython-input-7-401afab8a2b7>\u001b[0m in \u001b[0;36mevaluarEdad\u001b[1;34m(edad)\u001b[0m\n\u001b[0;32m      2\u001b[0m     \u001b[1;32mif\u001b[0m \u001b[0medad\u001b[0m \u001b[1;33m<\u001b[0m \u001b[1;36m0\u001b[0m\u001b[1;33m:\u001b[0m\u001b[1;33m\u001b[0m\u001b[1;33m\u001b[0m\u001b[0m\n\u001b[0;32m      3\u001b[0m         \u001b[1;31m#raise TypeError(\"No se permiten edades negativas\")\u001b[0m\u001b[1;33m\u001b[0m\u001b[1;33m\u001b[0m\u001b[1;33m\u001b[0m\u001b[0m\n\u001b[1;32m----> 4\u001b[1;33m         \u001b[1;32mraise\u001b[0m \u001b[0mZeroDivisionError\u001b[0m\u001b[1;33m(\u001b[0m\u001b[1;34m\"No se permiten edades negativas\"\u001b[0m\u001b[1;33m)\u001b[0m\u001b[1;33m\u001b[0m\u001b[1;33m\u001b[0m\u001b[0m\n\u001b[0m\u001b[0;32m      5\u001b[0m     \u001b[1;32mif\u001b[0m \u001b[0medad\u001b[0m \u001b[1;33m<\u001b[0m \u001b[1;36m18\u001b[0m\u001b[1;33m:\u001b[0m\u001b[1;33m\u001b[0m\u001b[1;33m\u001b[0m\u001b[0m\n\u001b[0;32m      6\u001b[0m         \u001b[1;32mreturn\u001b[0m \u001b[1;34m\"Eres menor de edad\"\u001b[0m\u001b[1;33m\u001b[0m\u001b[1;33m\u001b[0m\u001b[0m\n",
      "\u001b[1;31mZeroDivisionError\u001b[0m: No se permiten edades negativas"
     ]
    }
   ],
   "source": [
    "def evaluarEdad(edad):\n",
    "    if edad < 0:\n",
    "        #raise TypeError(\"No se permiten edades negativas\")\n",
    "        raise ZeroDivisionError(\"No se permiten edades negativas\")\n",
    "    if edad < 18:\n",
    "        return \"Eres menor de edad\"\n",
    "    if edad < 40:\n",
    "        return \"Ya estás acabado\"\n",
    "    elif edad < 70:\n",
    "        return \"Más acabado\"\n",
    "    elif edadd < 100:\n",
    "        return \"Prepara tu funeral :(\"\n",
    "        \n",
    "print(evaluarEdad(-1))"
   ]
  },
  {
   "cell_type": "code",
   "execution_count": 11,
   "metadata": {},
   "outputs": [
    {
     "name": "stdout",
     "output_type": "stream",
     "text": [
      "Introduce un número: -12\n",
      "El numero no pede ser negativo\n",
      "Programa Terminado\n"
     ]
    }
   ],
   "source": [
    "import math\n",
    "\n",
    "def calcularRaiz(num1):\n",
    "    if num1 < 0:\n",
    "        raise ValueError(\"El numero no pede ser negativo\")\n",
    "    else:\n",
    "        return math.sqrt(num1)\n",
    "    \n",
    "op1 = (int(input(\"Introduce un número: \")))\n",
    "\n",
    "try:\n",
    "    print(calcularRaiz(op1))\n",
    "except ValueError as ErrorDeNumeroNegativo:\n",
    "    print(ErrorDeNumeroNegativo)\n",
    "        \n",
    "print(\"Programa Terminado\")"
   ]
  },
  {
   "cell_type": "code",
   "execution_count": 14,
   "metadata": {},
   "outputs": [
    {
     "name": "stdout",
     "output_type": "stream",
     "text": [
      "No se permiten edades negativas\n",
      "Programa Terminado\n"
     ]
    }
   ],
   "source": [
    "def evaluarEdad(edad):\n",
    "    if edad < 0:\n",
    "        #raise TypeError(\"No se permiten edades negativas\")\n",
    "        raise Exception(\"No se permiten edades negativas\")\n",
    "    if edad < 18:\n",
    "        return \"Eres menor de edad\"\n",
    "    if edad < 40:\n",
    "        return \"Ya estás acabado\"\n",
    "    elif edad < 70:\n",
    "        return \"Más acabado\"\n",
    "    elif edadd < 100:\n",
    "        return \"Prepara tu funeral :(\"\n",
    "try:\n",
    "    print(evaluarEdad(-1))\n",
    "except Exception as OtraCosa:\n",
    "    print(OtraCosa)\n",
    "\n",
    "print(\"Programa Terminado\")"
   ]
  }
 ],
 "metadata": {
  "kernelspec": {
   "display_name": "Python 3",
   "language": "python",
   "name": "python3"
  },
  "language_info": {
   "codemirror_mode": {
    "name": "ipython",
    "version": 3
   },
   "file_extension": ".py",
   "mimetype": "text/x-python",
   "name": "python",
   "nbconvert_exporter": "python",
   "pygments_lexer": "ipython3",
   "version": "3.7.4"
  }
 },
 "nbformat": 4,
 "nbformat_minor": 2
}

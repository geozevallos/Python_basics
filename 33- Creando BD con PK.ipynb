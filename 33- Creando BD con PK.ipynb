{
 "cells": [
  {
   "cell_type": "code",
   "execution_count": 1,
   "id": "d70a214e",
   "metadata": {},
   "outputs": [],
   "source": [
    "import sqlite3"
   ]
  },
  {
   "cell_type": "code",
   "execution_count": 10,
   "id": "51c39832",
   "metadata": {},
   "outputs": [],
   "source": [
    "miConexion = sqlite3.connect(\"GestionProductosbd\")"
   ]
  },
  {
   "cell_type": "code",
   "execution_count": 11,
   "id": "32b0ee15",
   "metadata": {},
   "outputs": [],
   "source": [
    "miCursor = miConexion.cursor()"
   ]
  },
  {
   "cell_type": "code",
   "execution_count": 12,
   "id": "6f6ff7ee",
   "metadata": {},
   "outputs": [
    {
     "data": {
      "text/plain": [
       "<sqlite3.Cursor at 0x2114b33d960>"
      ]
     },
     "execution_count": 12,
     "metadata": {},
     "output_type": "execute_result"
    }
   ],
   "source": [
    "miCursor.execute('''\n",
    "    CREATE TABLE PRODUCTOS(\n",
    "    CODIGO_ARTICULO VARCHAR(4) PRIMARY KEY,\n",
    "    NOMBRE_ARTICULO VARCHAR(50),\n",
    "    PRECIO INTEGER,\n",
    "    SECCION VARCHAR(20))\n",
    "''')"
   ]
  },
  {
   "cell_type": "code",
   "execution_count": 13,
   "id": "99a6e581",
   "metadata": {},
   "outputs": [],
   "source": [
    "productos=[\n",
    "    (\"ARC01\", \"pelota\", 20, \"jugueteria\"),\n",
    "    (\"ARC02\", \"pantalon\", 50, \"ropa\"),\n",
    "    (\"ARC03\", \"martillo\", 20, \"ferreteria\"),\n",
    "    (\"ARC04\", \"mesa\", 80, \"cerámica\"),\n",
    "]"
   ]
  },
  {
   "cell_type": "code",
   "execution_count": 14,
   "id": "0dc18d7e",
   "metadata": {},
   "outputs": [
    {
     "data": {
      "text/plain": [
       "<sqlite3.Cursor at 0x2114b33d960>"
      ]
     },
     "execution_count": 14,
     "metadata": {},
     "output_type": "execute_result"
    }
   ],
   "source": [
    "miCursor.executemany(\"INSERT INTO PRODUCTOS VALUES (?, ?, ? , ?)\", productos)"
   ]
  },
  {
   "cell_type": "code",
   "execution_count": 15,
   "id": "c269df84",
   "metadata": {},
   "outputs": [],
   "source": [
    "miConexion.commit()"
   ]
  },
  {
   "cell_type": "code",
   "execution_count": 16,
   "id": "8cfeebee",
   "metadata": {},
   "outputs": [],
   "source": [
    "miConexion.close()"
   ]
  }
 ],
 "metadata": {
  "kernelspec": {
   "display_name": "Python 3",
   "language": "python",
   "name": "python3"
  },
  "language_info": {
   "codemirror_mode": {
    "name": "ipython",
    "version": 3
   },
   "file_extension": ".py",
   "mimetype": "text/x-python",
   "name": "python",
   "nbconvert_exporter": "python",
   "pygments_lexer": "ipython3",
   "version": "3.7.4"
  }
 },
 "nbformat": 4,
 "nbformat_minor": 5
}

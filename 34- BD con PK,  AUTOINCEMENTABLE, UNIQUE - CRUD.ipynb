{
 "cells": [
  {
   "cell_type": "code",
   "execution_count": 1,
   "id": "1af261de",
   "metadata": {},
   "outputs": [],
   "source": [
    "import sqlite3"
   ]
  },
  {
   "cell_type": "code",
   "execution_count": 10,
   "id": "06115e53",
   "metadata": {},
   "outputs": [],
   "source": [
    "miConexion = sqlite3.connect(\"DatosProductosBD\")"
   ]
  },
  {
   "cell_type": "code",
   "execution_count": 11,
   "id": "7d02d010",
   "metadata": {},
   "outputs": [],
   "source": [
    "miCursor = miConexion.cursor()"
   ]
  },
  {
   "cell_type": "markdown",
   "id": "ce5a84a1",
   "metadata": {},
   "source": [
    "Como es autoincermentable, en este caso se llamará id y será de tipo INTEGER"
   ]
  },
  {
   "cell_type": "code",
   "execution_count": 12,
   "id": "99b4ade7",
   "metadata": {},
   "outputs": [
    {
     "data": {
      "text/plain": [
       "<sqlite3.Cursor at 0x17c1969e340>"
      ]
     },
     "execution_count": 12,
     "metadata": {},
     "output_type": "execute_result"
    }
   ],
   "source": [
    "miCursor.execute('''\n",
    "    CREATE TABLE PRODUCTOS(\n",
    "    ID INTEGER PRIMARY KEY AUTOINCREMENT,\n",
    "    NOMBRE_ARTICULO VARCHAR(50) UNIQUE,\n",
    "    PRECIO INTEGER,\n",
    "    SECCION VARCHAR(20))\n",
    "''')"
   ]
  },
  {
   "cell_type": "markdown",
   "id": "6928f7d2",
   "metadata": {},
   "source": [
    "Ya no tendría xq ir un id"
   ]
  },
  {
   "cell_type": "code",
   "execution_count": 13,
   "id": "4183eee4",
   "metadata": {},
   "outputs": [],
   "source": [
    "productos=[\n",
    "    (\"pelota\", 20, \"jugueteria\"),\n",
    "    (\"pantalon\", 50, \"ropa\"),\n",
    "    (\"martillo\", 20, \"ferreteria\"),\n",
    "    (\"mesa\", 80, \"cerámica\"),\n",
    "]"
   ]
  },
  {
   "cell_type": "markdown",
   "id": "5804f7cf",
   "metadata": {},
   "source": [
    "En este caso como la tabla tiene 4 campos, y solo pasamos 3, debemos especificar que el 1ero\n",
    "es null"
   ]
  },
  {
   "cell_type": "code",
   "execution_count": 14,
   "id": "1b862623",
   "metadata": {},
   "outputs": [
    {
     "data": {
      "text/plain": [
       "<sqlite3.Cursor at 0x17c1969e340>"
      ]
     },
     "execution_count": 14,
     "metadata": {},
     "output_type": "execute_result"
    }
   ],
   "source": [
    "miCursor.executemany(\"INSERT INTO PRODUCTOS VALUES (NULL, ?, ?, ?)\", productos)"
   ]
  },
  {
   "cell_type": "markdown",
   "id": "6d734342",
   "metadata": {},
   "source": [
    "#### CRUD : READ"
   ]
  },
  {
   "cell_type": "markdown",
   "id": "01b5e267",
   "metadata": {},
   "source": [
    "OJO: Es case sensitive"
   ]
  },
  {
   "cell_type": "code",
   "execution_count": 19,
   "id": "0d8a94e0",
   "metadata": {},
   "outputs": [
    {
     "data": {
      "text/plain": [
       "<sqlite3.Cursor at 0x17c1969e340>"
      ]
     },
     "execution_count": 19,
     "metadata": {},
     "output_type": "execute_result"
    }
   ],
   "source": [
    "miCursor.execute(\"SELECT * FROM PRODUCTOS WHERE SECCION = 'ropa'\")"
   ]
  },
  {
   "cell_type": "code",
   "execution_count": 20,
   "id": "87db1c6f",
   "metadata": {},
   "outputs": [
    {
     "name": "stdout",
     "output_type": "stream",
     "text": [
      "[(2, 'pantalon', 50, 'ropa')]\n"
     ]
    }
   ],
   "source": [
    "productos_ropa = miCursor.fetchall()\n",
    "print(productos_ropa)"
   ]
  },
  {
   "cell_type": "markdown",
   "id": "011da264",
   "metadata": {},
   "source": [
    "#### CRUD: UPDATE"
   ]
  },
  {
   "cell_type": "code",
   "execution_count": 22,
   "id": "49f53960",
   "metadata": {},
   "outputs": [
    {
     "data": {
      "text/plain": [
       "<sqlite3.Cursor at 0x17c1969e340>"
      ]
     },
     "execution_count": 22,
     "metadata": {},
     "output_type": "execute_result"
    }
   ],
   "source": [
    "miCursor.execute(\"UPDATE PRODUCTOS SET PRECIO = 40 WHERE NOMBRE_ARTICULO='pelota' \")"
   ]
  },
  {
   "cell_type": "markdown",
   "id": "4ef7776a",
   "metadata": {},
   "source": [
    "#### CRUD: DELETE"
   ]
  },
  {
   "cell_type": "code",
   "execution_count": 23,
   "id": "4ffbffc9",
   "metadata": {},
   "outputs": [
    {
     "data": {
      "text/plain": [
       "<sqlite3.Cursor at 0x17c1969e340>"
      ]
     },
     "execution_count": 23,
     "metadata": {},
     "output_type": "execute_result"
    }
   ],
   "source": [
    "miCursor.execute(\"DELETE FROM PRODUCTOS WHERE ID = 5\")"
   ]
  },
  {
   "cell_type": "markdown",
   "id": "45f62418",
   "metadata": {},
   "source": [
    "##### Probando"
   ]
  },
  {
   "cell_type": "code",
   "execution_count": 24,
   "id": "530e5f41",
   "metadata": {},
   "outputs": [
    {
     "name": "stdout",
     "output_type": "stream",
     "text": [
      "[(1, 'pelota', 40, 'jugueteria'), (2, 'pantalon', 50, 'ropa'), (3, 'martillo', 20, 'ferreteria'), (4, 'mesa', 80, 'cerámica')]\n"
     ]
    }
   ],
   "source": [
    "miCursor.execute(\"SELECT * FROM PRODUCTOS\")\n",
    "productos_general = miCursor.fetchall()\n",
    "print(productos_general)"
   ]
  },
  {
   "cell_type": "code",
   "execution_count": 25,
   "id": "42f1eaf4",
   "metadata": {},
   "outputs": [],
   "source": [
    "miConexion.commit()"
   ]
  },
  {
   "cell_type": "code",
   "execution_count": 26,
   "id": "6d669a30",
   "metadata": {},
   "outputs": [],
   "source": [
    "miConexion.close()"
   ]
  }
 ],
 "metadata": {
  "kernelspec": {
   "display_name": "Python 3",
   "language": "python",
   "name": "python3"
  },
  "language_info": {
   "codemirror_mode": {
    "name": "ipython",
    "version": 3
   },
   "file_extension": ".py",
   "mimetype": "text/x-python",
   "name": "python",
   "nbconvert_exporter": "python",
   "pygments_lexer": "ipython3",
   "version": "3.7.4"
  }
 },
 "nbformat": 4,
 "nbformat_minor": 5
}

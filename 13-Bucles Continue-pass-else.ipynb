{
 "cells": [
  {
   "cell_type": "markdown",
   "metadata": {},
   "source": [
    "## Continue, pass, else"
   ]
  },
  {
   "cell_type": "markdown",
   "metadata": {},
   "source": [
    "`continue`-> Salta a la siguiente interacción del bucle"
   ]
  },
  {
   "cell_type": "code",
   "execution_count": 2,
   "metadata": {},
   "outputs": [
    {
     "name": "stdout",
     "output_type": "stream",
     "text": [
      "Viendo la letra J\n",
      "Viendo la letra o\n",
      "Viendo la letra g\n",
      "Viendo la letra e\n"
     ]
    }
   ],
   "source": [
    "for i in \"Jorge\":\n",
    "    if i == \"r\":\n",
    "        continue\n",
    "    print(f'Viendo la letra {i}')"
   ]
  },
  {
   "cell_type": "markdown",
   "metadata": {},
   "source": [
    "##### ¿Cuántas letras tiene tu nombre completo?"
   ]
  },
  {
   "cell_type": "code",
   "execution_count": 5,
   "metadata": {},
   "outputs": [
    {
     "name": "stdout",
     "output_type": "stream",
     "text": [
      "19\n"
     ]
    }
   ],
   "source": [
    "nletras = 0\n",
    "nombre = 'Benito Camela Poronga'\n",
    "\n",
    "for letra in nombre:\n",
    "    if letra == \" \":\n",
    "        continue\n",
    "    nletras += 1\n",
    "\n",
    "print(nletras)\n",
    "    "
   ]
  },
  {
   "cell_type": "markdown",
   "metadata": {},
   "source": [
    "`pass` -> Devuelve null en cuanto se le en el interior del bucle"
   ]
  },
  {
   "cell_type": "code",
   "execution_count": 6,
   "metadata": {},
   "outputs": [],
   "source": [
    "class MiClase:\n",
    "    pass #Lo hare más tarde"
   ]
  },
  {
   "cell_type": "markdown",
   "metadata": {},
   "source": [
    "`else` -> Similar a como funciona en un condicional. Corre cuando el bucle ya está vacío"
   ]
  },
  {
   "cell_type": "code",
   "execution_count": 8,
   "metadata": {},
   "outputs": [
    {
     "name": "stdout",
     "output_type": "stream",
     "text": [
      "Ingresa tu correo@\n",
      "True\n"
     ]
    }
   ],
   "source": [
    "email = input(\"Ingresa tu correo\")\n",
    "\n",
    "for i in email:\n",
    "    if i == \"@\":\n",
    "        arroba = True\n",
    "        \n",
    "        break\n",
    "\n",
    "else: \n",
    "    arroba = False\n",
    "\n",
    "print(arroba)\n"
   ]
  }
 ],
 "metadata": {
  "kernelspec": {
   "display_name": "Python 3",
   "language": "python",
   "name": "python3"
  },
  "language_info": {
   "codemirror_mode": {
    "name": "ipython",
    "version": 3
   },
   "file_extension": ".py",
   "mimetype": "text/x-python",
   "name": "python",
   "nbconvert_exporter": "python",
   "pygments_lexer": "ipython3",
   "version": "3.7.4"
  }
 },
 "nbformat": 4,
 "nbformat_minor": 2
}

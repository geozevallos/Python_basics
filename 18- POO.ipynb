{
 "cells": [
  {
   "cell_type": "markdown",
   "metadata": {},
   "source": [
    "POO"
   ]
  },
  {
   "cell_type": "markdown",
   "metadata": {},
   "source": [
    "Paradigmas de progrmaación:\n",
    "* Programación orientada a procedimientos:\n",
    "  * Unidades de codigos muy grandes\n",
    "  * Lenguajes: Fortran, Cobol\n",
    "  * Poco reutilizable\n",
    "  * Codigo Spaghetti\n"
   ]
  },
  {
   "cell_type": "code",
   "execution_count": null,
   "metadata": {},
   "outputs": [],
   "source": []
  },
  {
   "cell_type": "markdown",
   "metadata": {},
   "source": [
    "* Programación orientada a objetos\n",
    "    * entender el comportamienti q tienen en la vida \n",
    "    * basicamente 3 cosas: Estado, comportamiento ¿qué puee hacer? y propiedades"
   ]
  },
  {
   "cell_type": "markdown",
   "metadata": {},
   "source": [
    "Ejm: \n",
    "* Un objeto:\n",
    "    * Tiene Atributos (Propiedades):\n",
    "        - Color\n",
    "        - Peso\n",
    "        - Alto\n",
    "        - Largo\n",
    "    * Tieene un comportamiento (¿Qué es capaz de hacer?:\n",
    "        - Arrancar\n",
    "        - Frenar\n",
    "        - Acelerar"
   ]
  },
  {
   "cell_type": "markdown",
   "metadata": {},
   "source": [
    "Ventajas:\n",
    "    * Puede modularizar: Es decir dividir en modulos el programa\n",
    "    * Es reutilizable. (Herencia)\n",
    "    * Encapsulamiento"
   ]
  },
  {
   "cell_type": "markdown",
   "metadata": {},
   "source": [
    "### ¿Qué es una clase?"
   ]
  },
  {
   "cell_type": "markdown",
   "metadata": {},
   "source": [
    "Modelo donde se redectn las características de un GRUPO de objetos"
   ]
  },
  {
   "cell_type": "markdown",
   "metadata": {},
   "source": [
    "### Instancia de clase / OBJETO"
   ]
  },
  {
   "cell_type": "code",
   "execution_count": null,
   "metadata": {},
   "outputs": [],
   "source": [
    "Es lo mismo de objeto pertenecinete a una clase. Es decir un objeto o ejemplar que pertenece a una clase.\n",
    "Los objetos comparten características, es decir una clase, pero tienen también propiedades distintas."
   ]
  },
  {
   "cell_type": "markdown",
   "metadata": {},
   "source": [
    "### Modularizacion"
   ]
  },
  {
   "cell_type": "markdown",
   "metadata": {},
   "source": [
    "Una aplicacion puede estar compuestas de muchas clases. La ventaja es que cada modulo funciona de manera\n",
    "independiente. Lo que lo hace reutilizable. Además si un modulo no funciona, todo lo demás funciona sin\n",
    "problemas."
   ]
  },
  {
   "cell_type": "markdown",
   "metadata": {},
   "source": [
    "### Encapsulación"
   ]
  },
  {
   "cell_type": "markdown",
   "metadata": {},
   "source": [
    "El funcionamiento interno de una modularización es propio. El funcionamiento de un modulo, no sabe del\n",
    "funcionamiento del otro.\n",
    "\n",
    "Para conectar una clase con otra se generan los metodos de acceso con el fin que funcionen como equipo."
   ]
  },
  {
   "cell_type": "code",
   "execution_count": null,
   "metadata": {},
   "outputs": [],
   "source": []
  }
 ],
 "metadata": {
  "kernelspec": {
   "display_name": "Python 3",
   "language": "python",
   "name": "python3"
  },
  "language_info": {
   "codemirror_mode": {
    "name": "ipython",
    "version": 3
   },
   "file_extension": ".py",
   "mimetype": "text/x-python",
   "name": "python",
   "nbconvert_exporter": "python",
   "pygments_lexer": "ipython3",
   "version": "3.7.4"
  }
 },
 "nbformat": 4,
 "nbformat_minor": 2
}

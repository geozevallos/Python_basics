{
 "cells": [
  {
   "cell_type": "markdown",
   "metadata": {},
   "source": [
    "### Polimorfismo"
   ]
  },
  {
   "cell_type": "markdown",
   "metadata": {},
   "source": [
    "Se da cuando un objeto puede cambiar de forma o comportamiento, depeniendo del concepto en el q se \n",
    "utilice. Por ejemplo un camión puede pasa a ser un coche.\n",
    "\n",
    "Python tiene un tipado dinámico."
   ]
  },
  {
   "cell_type": "code",
   "execution_count": 2,
   "metadata": {},
   "outputs": [],
   "source": [
    "class Coche:\n",
    "    \n",
    "    def desplazamiento (self):\n",
    "        print(\"Me desplazo utilizando 4 ruedas\")\n",
    "\n",
    "class Moto:\n",
    "    def desplazamiento(self):\n",
    "        print(\"Me desplazo utilizando dos ruedas\")\n",
    "        \n",
    "class Camion:\n",
    "    def desplazamiento(self):\n",
    "        print(\"Me desplazo utilizando 6 ryedas\")"
   ]
  },
  {
   "cell_type": "code",
   "execution_count": 6,
   "metadata": {},
   "outputs": [
    {
     "name": "stdout",
     "output_type": "stream",
     "text": [
      "Me desplazo utilizando 6 ryedas\n"
     ]
    }
   ],
   "source": [
    "miVehiculo = Camion()\n",
    "miVehiculo.desplazamiento()"
   ]
  },
  {
   "cell_type": "markdown",
   "metadata": {},
   "source": [
    "ahora establezcamos una función. ¿Pero cómo va a saber cuál ejecutar?\n",
    "Python reconoce de que tipo es mi objeto. El polimorfismo se da en el método. Un mismoo \n",
    "método puede variar para cada clase. Como en este caso desplazamiento"
   ]
  },
  {
   "cell_type": "code",
   "execution_count": 7,
   "metadata": {},
   "outputs": [
    {
     "name": "stdout",
     "output_type": "stream",
     "text": [
      "Me desplazo utilizando 6 ryedas\n"
     ]
    }
   ],
   "source": [
    "def desplazamientoVehiculo(vehiculo):\n",
    "    vehiculo.desplazamiento()\n",
    "    \n",
    "desplazamientoVehiculo(miVehiculo)"
   ]
  }
 ],
 "metadata": {
  "kernelspec": {
   "display_name": "Python 3",
   "language": "python",
   "name": "python3"
  },
  "language_info": {
   "codemirror_mode": {
    "name": "ipython",
    "version": 3
   },
   "file_extension": ".py",
   "mimetype": "text/x-python",
   "name": "python",
   "nbconvert_exporter": "python",
   "pygments_lexer": "ipython3",
   "version": "3.7.4"
  }
 },
 "nbformat": 4,
 "nbformat_minor": 2
}

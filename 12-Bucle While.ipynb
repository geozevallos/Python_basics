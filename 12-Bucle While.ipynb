{
 "cells": [
  {
   "cell_type": "markdown",
   "metadata": {},
   "source": [
    "## Bucle While"
   ]
  },
  {
   "cell_type": "markdown",
   "metadata": {},
   "source": [
    "```python\n",
    "while condición:\n",
    "    cuerpo del bucle\n",
    "    ```"
   ]
  },
  {
   "cell_type": "code",
   "execution_count": 6,
   "metadata": {},
   "outputs": [
    {
     "name": "stdout",
     "output_type": "stream",
     "text": [
      "Hola! 1\n",
      "Hola! 2\n",
      "Hola! 3\n",
      "Hola! 4\n",
      "Hola! 5\n",
      "Hola! 6\n",
      "Hola! 7\n",
      "Hola! 8\n",
      "Hola! 9\n",
      "Hola! 10\n",
      "Eso es todo, amigos\n"
     ]
    }
   ],
   "source": [
    "i = 1\n",
    "\n",
    "while i <= 10:\n",
    "    print(\"Hola! \" + str(i))\n",
    "    i = i + 1\n",
    "    \n",
    "print(\"Eso es todo, amigos\")"
   ]
  },
  {
   "cell_type": "markdown",
   "metadata": {},
   "source": [
    "##### Un ejemplo indeterminado:"
   ]
  },
  {
   "cell_type": "code",
   "execution_count": 9,
   "metadata": {},
   "outputs": [
    {
     "name": "stdout",
     "output_type": "stream",
     "text": [
      "Introduce tu edad: -1\n",
      "Has introducido una edad negativa. Escribe tu edad correcta\n",
      "Introduce tu edad: -1\n",
      "Has introducido una edad negativa. Escribe tu edad correcta\n",
      "Introduce tu edad: -2\n",
      "Has introducido una edad negativa. Escribe tu edad correcta\n",
      "Introduce tu edad: -3\n",
      "Has introducido una edad negativa. Escribe tu edad correcta\n",
      "Introduce tu edad: 3\n",
      "Gracias :) \n"
     ]
    }
   ],
   "source": [
    "edad = int(input(\"Introduce tu edad: \"))\n",
    "\n",
    "while edad < 0:\n",
    "    print(\"Has introducido una edad negativa. Escribe tu edad correcta\")\n",
    "    edad = int(input(\"Introduce tu edad: \"))\n",
    "\n",
    "print(\"Gracias :) \")"
   ]
  },
  {
   "cell_type": "markdown",
   "metadata": {},
   "source": [
    "##### Validando clave con while"
   ]
  },
  {
   "cell_type": "code",
   "execution_count": 16,
   "metadata": {},
   "outputs": [
    {
     "name": "stdout",
     "output_type": "stream",
     "text": [
      "Ingrese su clave: aADADA\n",
      "Su clave no es correcta\n",
      "Ingrese su claveMICLAVE\n",
      "Bienvenido\n"
     ]
    }
   ],
   "source": [
    "clave = input(\"Ingrese su clave: \")\n",
    "\n",
    "intentos = 0\n",
    "\n",
    "while clave.lower() != \"miclave\":\n",
    "    print(\"Su clave no es correcta\")\n",
    "    \n",
    "    if intentos == 2:\n",
    "        print(\"Lo has intentado muchas veces\")\n",
    "        break;\n",
    "    \n",
    "    clave = input(\"Ingrese su clave: \")\n",
    "    if clave.lower() != \"miclave\":\n",
    "        intentos = intentos + 1\n",
    "\n",
    "if intentos < 2:\n",
    "    print(\"Bienvenido\")\n",
    "    \n"
   ]
  }
 ],
 "metadata": {
  "kernelspec": {
   "display_name": "Python 3",
   "language": "python",
   "name": "python3"
  },
  "language_info": {
   "codemirror_mode": {
    "name": "ipython",
    "version": 3
   },
   "file_extension": ".py",
   "mimetype": "text/x-python",
   "name": "python",
   "nbconvert_exporter": "python",
   "pygments_lexer": "ipython3",
   "version": "3.7.4"
  }
 },
 "nbformat": 4,
 "nbformat_minor": 2
}
